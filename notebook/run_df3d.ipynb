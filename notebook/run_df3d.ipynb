{
 "metadata": {
  "language_info": {
   "codemirror_mode": {
    "name": "ipython",
    "version": 3
   },
   "file_extension": ".py",
   "mimetype": "text/x-python",
   "name": "python",
   "nbconvert_exporter": "python",
   "pygments_lexer": "ipython3",
   "version": "3.6.13-final"
  },
  "orig_nbformat": 2,
  "kernelspec": {
   "name": "python3",
   "display_name": "Python 3.6.13 64-bit ('df3d_dev': conda)",
   "metadata": {
    "interpreter": {
     "hash": "9569cd038463f1ae4fa544d349e9c5e283076eb4ba1fbff3336a1f5733116bc6"
    }
   }
  }
 },
 "nbformat": 4,
 "nbformat_minor": 2,
 "cells": [
  {
   "cell_type": "code",
   "execution_count": 4,
   "metadata": {},
   "outputs": [],
   "source": [
    "from df3d.core import Core"
   ]
  },
  {
   "cell_type": "code",
   "execution_count": 5,
   "metadata": {},
   "outputs": [],
   "source": [
    "core = Core(input_folder='../sample/test/', num_images_max=100, output_subfolder='df3d_py', camera_ordering=[0,1,2,3,4,5,6])"
   ]
  },
  {
   "cell_type": "code",
   "execution_count": 6,
   "metadata": {},
   "outputs": [
    {
     "output_type": "stream",
     "name": "stderr",
     "text": [
      "100%|██████████| 13/13 [00:19<00:00,  1.49s/it]\n"
     ]
    }
   ],
   "source": [
    "# run 2d pose estimation, saves results unuder output_subfolder\n",
    "core.pose2d_estimation()"
   ]
  },
  {
   "cell_type": "code",
   "execution_count": 7,
   "metadata": {},
   "outputs": [
    {
     "output_type": "stream",
     "name": "stdout",
     "text": [
      "   Iteration     Total nfev        Cost      Cost reduction    Step norm     Optimality   \n       0              1         4.6889e+04                                    2.57e+05    \n       1              2         2.7504e+04      1.94e+04       5.12e+00       6.99e+04    \n       2              3         2.2406e+04      5.10e+03       1.83e+00       1.26e+04    \n       3              4         2.2326e+04      7.94e+01       3.46e-01       1.13e+03    \n       4              5         2.2325e+04      8.47e-01       5.59e-02       1.92e+02    \n`ftol` termination condition is satisfied.\nFunction evaluations 5, initial cost 4.6889e+04, final cost 2.2325e+04, first-order optimality 1.92e+02.\n"
     ]
    }
   ],
   "source": [
    "core.calibrate_calc(min_img_id=0, max_img_id=100)"
   ]
  },
  {
   "cell_type": "code",
   "execution_count": null,
   "metadata": {},
   "outputs": [],
   "source": [
    "# saves 3d points and calibration under output_subfolder in df3d_result file\n",
    "core.save()"
   ]
  },
  {
   "cell_type": "code",
   "execution_count": 8,
   "metadata": {},
   "outputs": [],
   "source": [
    "# make 2d video\n",
    "from df3d import video\n",
    "video.make_pose2d_video(\n",
    "    core.plot_2d, core.num_images, core.input_folder, core.output_folder\n",
    ")"
   ]
  },
  {
   "cell_type": "code",
   "execution_count": null,
   "metadata": {},
   "outputs": [],
   "source": [
    "# make 3d video\n",
    "from df3d import videoa\n",
    "video.make_pose3d_video(\n",
    "    core.get_points3d(),\n",
    "    core.plot_2d,\n",
    "    core.num_images,\n",
    "    core.input_folder,\n",
    "    core.output_folder,\n",
    ")"
   ]
  }
 ]
}